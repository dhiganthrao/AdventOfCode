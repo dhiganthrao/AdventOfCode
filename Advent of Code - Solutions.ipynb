{
 "cells": [
  {
   "cell_type": "markdown",
   "metadata": {},
   "source": [
    "Advent of Code 2020: Day 1"
   ]
  },
  {
   "cell_type": "markdown",
   "metadata": {},
   "source": [
    "Puzzle 1"
   ]
  },
  {
   "cell_type": "code",
   "execution_count": 1,
   "metadata": {},
   "outputs": [
    {
     "name": "stdout",
     "output_type": "stream",
     "text": [
      "247 1773\n"
     ]
    }
   ],
   "source": [
    "file = open('/home/hp/Repositories/AOC/numbers.txt', 'r')\n",
    "\n",
    "list_of_numbers = file.readlines()\n",
    "list_of_numbers = list(map(lambda s: s.strip(), list_of_numbers))\n",
    "list_of_numbers.pop() # There is an empty string element at the last, hence popping\n",
    "list_of_numbers = [int(s) for s in list_of_numbers]\n",
    "\n",
    "def findPairs(arr, arr_size, sum):    \n",
    "    s = []\n",
    "    for i in range(0, arr_size):\n",
    "        temp = sum-arr[i]\n",
    "        if (temp in s):\n",
    "            print(str(temp), str(arr[i]))\n",
    "        s.append(arr[i])\n",
    "\n",
    "A = list_of_numbers\n",
    "n = 2020\n",
    "findPairs(A, len(A), n)\n",
    "\n"
   ]
  },
  {
   "cell_type": "code",
   "execution_count": 4,
   "metadata": {},
   "outputs": [
    {
     "data": {
      "text/plain": [
       "437931"
      ]
     },
     "execution_count": 4,
     "metadata": {},
     "output_type": "execute_result"
    }
   ],
   "source": [
    "247*1773"
   ]
  },
  {
   "cell_type": "markdown",
   "metadata": {},
   "source": [
    "Puzzle 2"
   ]
  },
  {
   "cell_type": "code",
   "execution_count": 3,
   "metadata": {},
   "outputs": [
    {
     "name": "stdout",
     "output_type": "stream",
     "text": [
      "188 896 936\n"
     ]
    }
   ],
   "source": [
    "def findTriplets(arr, arr_size, sum): \n",
    "    for i in range(0, arr_size-1): \n",
    "        s = set() \n",
    "        curr_sum = sum - arr[i] \n",
    "        for j in range(i + 1, arr_size): \n",
    "            if (curr_sum - arr[j]) in s: \n",
    "                print(str(arr[i]), str(arr[j]), str(curr_sum-arr[j]))\n",
    "            s.add(A[j]) \n",
    "    \n",
    "sum = 2020\n",
    "arr_size = len(list_of_numbers)\n",
    "findTriplets(A, arr_size, sum)  "
   ]
  },
  {
   "cell_type": "code",
   "execution_count": 5,
   "metadata": {},
   "outputs": [
    {
     "data": {
      "text/plain": [
       "157667328"
      ]
     },
     "execution_count": 5,
     "metadata": {},
     "output_type": "execute_result"
    }
   ],
   "source": [
    "188*896*936"
   ]
  },
  {
   "cell_type": "code",
   "execution_count": null,
   "metadata": {},
   "outputs": [],
   "source": []
  }
 ],
 "metadata": {
  "kernelspec": {
   "display_name": "Python 3",
   "language": "python",
   "name": "python3"
  },
  "language_info": {
   "codemirror_mode": {
    "name": "ipython",
    "version": 3
   },
   "file_extension": ".py",
   "mimetype": "text/x-python",
   "name": "python",
   "nbconvert_exporter": "python",
   "pygments_lexer": "ipython3",
   "version": "3.8.5"
  }
 },
 "nbformat": 4,
 "nbformat_minor": 4
}
